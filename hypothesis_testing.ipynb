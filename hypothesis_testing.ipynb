{
 "cells": [
  {
   "cell_type": "markdown",
   "metadata": {},
   "source": [
    "Z-Test: A Z-test is used when we have a large sample size and know the population standard deviation. It assesses whether the sample mean differs significantly from the population mean by comparing the Z-score to a critical value from the standard normal distribution."
   ]
  },
  {
   "cell_type": "code",
   "execution_count": null,
   "metadata": {},
   "outputs": [],
   "source": [
    "import numpy as np\n",
    "from scipy import stats\n",
    "\n",
    "# Sample data\n",
    "sample_data = np.array([25, 30, 28, 34, 31, 29, 27, 33, 32, 28])\n",
    "\n",
    "# Population mean and standard deviation (known)\n",
    "population_mean = 30\n",
    "population_stddev = 2.5\n",
    "\n",
    "# Perform Z-Test\n",
    "z_score = (sample_data.mean() - population_mean) / (population_stddev / np.sqrt(len(sample_data)))\n",
    "p_value = 2 * (1 - stats.norm.cdf(abs(z_score)))\n",
    "\n",
    "print(f\"Z-Score: {z_score}\")\n",
    "print(f\"P-Value: {p_value}\")"
   ]
  },
  {
   "cell_type": "markdown",
   "metadata": {},
   "source": [
    "T-Test: The T-test is employed when the sample size is small, and the population standard deviation is unknown. It tests whether the sample mean differs significantly from the hypothesized population mean by calculating the T-statistic and comparing it to a critical value from the T-distribution."
   ]
  },
  {
   "cell_type": "code",
   "execution_count": null,
   "metadata": {},
   "outputs": [],
   "source": [
    "import numpy as np\n",
    "from scipy import stats\n",
    "\n",
    "# Sample data\n",
    "sample_data = np.array([25, 30, 28, 34, 31, 29, 27, 33, 32, 28])\n",
    "\n",
    "# Population mean (hypothesized)\n",
    "population_mean_hypo = 30\n",
    "\n",
    "# Perform T-Test\n",
    "t_statistic, p_value = stats.ttest_1samp(sample_data, population_mean_hypo)\n",
    "\n",
    "print(f\"T-Statistic: {t_statistic}\")\n",
    "print(f\"P-Value: {p_value}\")"
   ]
  },
  {
   "cell_type": "markdown",
   "metadata": {},
   "source": [
    "Paired T-Test: This test is utilized to compare two sets of paired data to determine if their means differ significantly. It calculates the differences between paired observations and applies a T-test to these differences."
   ]
  },
  {
   "cell_type": "code",
   "execution_count": null,
   "metadata": {},
   "outputs": [],
   "source": [
    "import numpy as np\n",
    "from scipy import stats\n",
    "\n",
    "# Sample data for before and after observations\n",
    "before = np.array([25, 30, 28, 34, 31])\n",
    "after = np.array([28, 33, 29, 36, 32])\n",
    "\n",
    "# Perform Paired T-Test\n",
    "t_statistic, p_value = stats.ttest_rel(before, after)\n",
    "\n",
    "print(f\"T-Statistic: {t_statistic}\")\n",
    "print(f\"P-Value: {p_value}\")"
   ]
  },
  {
   "cell_type": "markdown",
   "metadata": {},
   "source": [
    "ANOVA (Analysis of Variance): ANOVA is used to compare the means of three or more groups to establish if there are any statistically significant differences among them. It tests the variance between group means relative to the variance within groups."
   ]
  },
  {
   "cell_type": "code",
   "execution_count": null,
   "metadata": {},
   "outputs": [],
   "source": [
    "import numpy as np\n",
    "from scipy import stats\n",
    "\n",
    "# Sample data for three or more groups\n",
    "group1 = np.array([15, 18, 20, 22, 19])\n",
    "group2 = np.array([25, 28, 30, 32, 29])\n",
    "group3 = np.array([35, 38, 40, 42, 39])\n",
    "\n",
    "# Perform ANOVA\n",
    "f_statistic, p_value = stats.f_oneway(group1, group2, group3)\n",
    "\n",
    "print(f\"F-Statistic: {f_statistic}\")\n",
    "print(f\"P-Value: {p_value}\")"
   ]
  },
  {
   "cell_type": "markdown",
   "metadata": {},
   "source": [
    "Chi-Square Test: The Chi-Square test is employed to assess the independence between categorical variables. It determines whether there is a significant association between two categorical variables based on the difference between observed and expected frequencies."
   ]
  },
  {
   "cell_type": "code",
   "execution_count": null,
   "metadata": {},
   "outputs": [],
   "source": [
    "import numpy as np\n",
    "from scipy import stats\n",
    "\n",
    "# Observed frequencies\n",
    "observed_freq = np.array([[30, 20], [15, 25]])\n",
    "\n",
    "# Perform Chi-Square Test\n",
    "chi2_statistic, p_value, _, _ = stats.chi2_contingency(observed_freq)\n",
    "\n",
    "print(f\"Chi-Square Statistic: {chi2_statistic}\")\n",
    "print(f\"P-Value: {p_value}\")"
   ]
  },
  {
   "cell_type": "markdown",
   "metadata": {},
   "source": [
    "Regression Analysis: Regression is used to examine the relationship between a dependent variable and one or more independent variables. It helps to understand how changes in independent variables relate to changes in the dependent variable and provides insights into predicting outcomes."
   ]
  },
  {
   "cell_type": "code",
   "execution_count": null,
   "metadata": {},
   "outputs": [],
   "source": [
    "import numpy as np\n",
    "from scipy import stats\n",
    "\n",
    "# Sample data for two variables\n",
    "variable1 = np.array([10, 15, 20, 25, 30])\n",
    "variable2 = np.array([20, 25, 30, 35, 40])\n",
    "\n",
    "# Perform Pearson correlation coefficient\n",
    "correlation_coefficient, p_value = stats.pearsonr(variable1, variable2)\n",
    "\n",
    "print(f\"Pearson Correlation Coefficient: {correlation_coefficient}\")\n",
    "print(f\"P-Value: {p_value}\")"
   ]
  },
  {
   "cell_type": "markdown",
   "metadata": {},
   "source": []
  }
 ],
 "metadata": {
  "kernelspec": {
   "display_name": "base",
   "language": "python",
   "name": "python3"
  },
  "language_info": {
   "codemirror_mode": {
    "name": "ipython",
    "version": 3
   },
   "file_extension": ".py",
   "mimetype": "text/x-python",
   "name": "python",
   "nbconvert_exporter": "python",
   "pygments_lexer": "ipython3",
   "version": "3.10.9"
  },
  "orig_nbformat": 4
 },
 "nbformat": 4,
 "nbformat_minor": 2
}
